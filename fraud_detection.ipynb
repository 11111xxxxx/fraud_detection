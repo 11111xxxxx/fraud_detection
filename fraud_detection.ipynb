{
 "cells": [
  {
   "cell_type": "markdown",
   "metadata": {},
   "source": [
    "# Introduction to this project \n",
    "This dataset contains 11 variables:\\\n",
    "step: maps a unit of time in the real world. In this case 1 step is 1 hour of time. Total steps 744 (30 days simulation). \\\n",
    "type: CASH-IN, CASH-OUT, DEBIT, PAYMENT and TRANSFER.\\\n",
    "amount: amount of the transaction in local currency.\\\n",
    "nameOrig: customer who started the transaction\\\n",
    "oldbalanceOrg: initial balance before the transaction\\\n",
    "newbalanceOrig: new balance after the transaction.\\\n",
    "nameDest: customer who is the recipient of the transaction\\\n",
    "oldbalanceDest: initial balance recipient before the transaction. Note that there is not information for customers that start with M (Merchants).\\\n",
    "newbalanceDest: new balance recipient after the transaction. Note that there is not information for customers that start with M (Merchants).\\\n",
    "isFraud: This is the transactions made by the fraudulent agents inside the simulation. In this specific dataset the fraudulent behavior of the agents aims to profit by taking control or customers accounts and try to empty the funds by transferring to another account and then cashing out of the system.\\\n",
    "isFlaggedFraud: The business model aims to control massive transfers from one account to another and flags illegal attempts. An illegal attempt in this dataset is an attempt to transfer more than 200.000 in a single transaction.\\\n",
    "\n"
   ]
  },
  {
   "cell_type": "code",
   "execution_count": 2,
   "metadata": {},
   "outputs": [],
   "source": [
    "# load libraries \n",
    "import numpy as np # linear algebra\n",
    "import pandas as pd # Data processing\n",
    "import matplotlib.pyplot as plt #Data visualization\n",
    "import seaborn as sns # Data visualization\n",
    "from sklearn.model_selection import train_test_split, RandomizedSearchCV # Cross-validation, splitting sets\n",
    "from sklearn.preprocessing import MinMaxScaler #Data scaling\n",
    "import xgboost as xgb #Extreme Gradient Boosting\n",
    "from sklearn.metrics import roc_curve, roc_auc_score, confusion_matrix, ConfusionMatrixDisplay, accuracy_score, f1_score #Metrics\n",
    "import matplotlib.ticker as mticker # Label format \n",
    "from matplotlib.ticker import ScalarFormatter # Label format\n",
    "from matplotlib.ticker import FuncFormatter\n",
    "from sklearn.impute import SimpleImputer"
   ]
  },
  {
   "cell_type": "markdown",
   "metadata": {},
   "source": [
    "Import the dataset and some exploration "
   ]
  },
  {
   "cell_type": "code",
   "execution_count": 4,
   "metadata": {},
   "outputs": [
    {
     "data": {
      "text/html": [
       "<div>\n",
       "<style scoped>\n",
       "    .dataframe tbody tr th:only-of-type {\n",
       "        vertical-align: middle;\n",
       "    }\n",
       "\n",
       "    .dataframe tbody tr th {\n",
       "        vertical-align: top;\n",
       "    }\n",
       "\n",
       "    .dataframe thead th {\n",
       "        text-align: right;\n",
       "    }\n",
       "</style>\n",
       "<table border=\"1\" class=\"dataframe\">\n",
       "  <thead>\n",
       "    <tr style=\"text-align: right;\">\n",
       "      <th></th>\n",
       "      <th>step</th>\n",
       "      <th>type</th>\n",
       "      <th>amount</th>\n",
       "      <th>nameOrig</th>\n",
       "      <th>oldbalanceOrg</th>\n",
       "      <th>newbalanceOrig</th>\n",
       "      <th>nameDest</th>\n",
       "      <th>oldbalanceDest</th>\n",
       "      <th>newbalanceDest</th>\n",
       "      <th>isFraud</th>\n",
       "      <th>isFlaggedFraud</th>\n",
       "    </tr>\n",
       "  </thead>\n",
       "  <tbody>\n",
       "    <tr>\n",
       "      <th>0</th>\n",
       "      <td>1</td>\n",
       "      <td>PAYMENT</td>\n",
       "      <td>9839.64</td>\n",
       "      <td>C1231006815</td>\n",
       "      <td>170136.0</td>\n",
       "      <td>160296.36</td>\n",
       "      <td>M1979787155</td>\n",
       "      <td>0.0</td>\n",
       "      <td>0.0</td>\n",
       "      <td>0</td>\n",
       "      <td>0</td>\n",
       "    </tr>\n",
       "    <tr>\n",
       "      <th>1</th>\n",
       "      <td>1</td>\n",
       "      <td>PAYMENT</td>\n",
       "      <td>1864.28</td>\n",
       "      <td>C1666544295</td>\n",
       "      <td>21249.0</td>\n",
       "      <td>19384.72</td>\n",
       "      <td>M2044282225</td>\n",
       "      <td>0.0</td>\n",
       "      <td>0.0</td>\n",
       "      <td>0</td>\n",
       "      <td>0</td>\n",
       "    </tr>\n",
       "    <tr>\n",
       "      <th>2</th>\n",
       "      <td>1</td>\n",
       "      <td>TRANSFER</td>\n",
       "      <td>181.00</td>\n",
       "      <td>C1305486145</td>\n",
       "      <td>181.0</td>\n",
       "      <td>0.00</td>\n",
       "      <td>C553264065</td>\n",
       "      <td>0.0</td>\n",
       "      <td>0.0</td>\n",
       "      <td>1</td>\n",
       "      <td>0</td>\n",
       "    </tr>\n",
       "    <tr>\n",
       "      <th>3</th>\n",
       "      <td>1</td>\n",
       "      <td>CASH_OUT</td>\n",
       "      <td>181.00</td>\n",
       "      <td>C840083671</td>\n",
       "      <td>181.0</td>\n",
       "      <td>0.00</td>\n",
       "      <td>C38997010</td>\n",
       "      <td>21182.0</td>\n",
       "      <td>0.0</td>\n",
       "      <td>1</td>\n",
       "      <td>0</td>\n",
       "    </tr>\n",
       "    <tr>\n",
       "      <th>4</th>\n",
       "      <td>1</td>\n",
       "      <td>PAYMENT</td>\n",
       "      <td>11668.14</td>\n",
       "      <td>C2048537720</td>\n",
       "      <td>41554.0</td>\n",
       "      <td>29885.86</td>\n",
       "      <td>M1230701703</td>\n",
       "      <td>0.0</td>\n",
       "      <td>0.0</td>\n",
       "      <td>0</td>\n",
       "      <td>0</td>\n",
       "    </tr>\n",
       "  </tbody>\n",
       "</table>\n",
       "</div>"
      ],
      "text/plain": [
       "   step      type    amount     nameOrig  oldbalanceOrg  newbalanceOrig  \\\n",
       "0     1   PAYMENT   9839.64  C1231006815       170136.0       160296.36   \n",
       "1     1   PAYMENT   1864.28  C1666544295        21249.0        19384.72   \n",
       "2     1  TRANSFER    181.00  C1305486145          181.0            0.00   \n",
       "3     1  CASH_OUT    181.00   C840083671          181.0            0.00   \n",
       "4     1   PAYMENT  11668.14  C2048537720        41554.0        29885.86   \n",
       "\n",
       "      nameDest  oldbalanceDest  newbalanceDest  isFraud  isFlaggedFraud  \n",
       "0  M1979787155             0.0             0.0        0               0  \n",
       "1  M2044282225             0.0             0.0        0               0  \n",
       "2   C553264065             0.0             0.0        1               0  \n",
       "3    C38997010         21182.0             0.0        1               0  \n",
       "4  M1230701703             0.0             0.0        0               0  "
      ]
     },
     "execution_count": 4,
     "metadata": {},
     "output_type": "execute_result"
    }
   ],
   "source": [
    "# import the dataset \n",
    "df = pd.read_csv('data.csv')\n"
   ]
  },
  {
   "cell_type": "code",
   "execution_count": 12,
   "metadata": {},
   "outputs": [
    {
     "data": {
      "text/plain": [
       "Index(['step', 'type', 'amount', 'nameOrig', 'oldbalanceOrg', 'newbalanceOrig',\n",
       "       'nameDest', 'oldbalanceDest', 'newbalanceDest', 'isFraud',\n",
       "       'isFlaggedFraud'],\n",
       "      dtype='object')"
      ]
     },
     "execution_count": 12,
     "metadata": {},
     "output_type": "execute_result"
    }
   ],
   "source": [
    "# explore the dataset\n",
    "df.head()\n",
    "df.columns"
   ]
  },
  {
   "cell_type": "markdown",
   "metadata": {},
   "source": [
    "# Section 1: Exploratory Data Analysis"
   ]
  },
  {
   "cell_type": "code",
   "execution_count": 15,
   "metadata": {},
   "outputs": [
    {
     "data": {
      "text/html": [
       "<div>\n",
       "<style scoped>\n",
       "    .dataframe tbody tr th:only-of-type {\n",
       "        vertical-align: middle;\n",
       "    }\n",
       "\n",
       "    .dataframe tbody tr th {\n",
       "        vertical-align: top;\n",
       "    }\n",
       "\n",
       "    .dataframe thead th {\n",
       "        text-align: right;\n",
       "    }\n",
       "</style>\n",
       "<table border=\"1\" class=\"dataframe\">\n",
       "  <thead>\n",
       "    <tr style=\"text-align: right;\">\n",
       "      <th></th>\n",
       "      <th>step</th>\n",
       "      <th>type</th>\n",
       "      <th>amount</th>\n",
       "      <th>nameOrig</th>\n",
       "      <th>oldbalanceOrg</th>\n",
       "      <th>newbalanceOrig</th>\n",
       "      <th>nameDest</th>\n",
       "      <th>oldbalanceDest</th>\n",
       "      <th>newbalanceDest</th>\n",
       "      <th>isFraud</th>\n",
       "      <th>isFlaggedFraud</th>\n",
       "    </tr>\n",
       "  </thead>\n",
       "  <tbody>\n",
       "    <tr>\n",
       "      <th>count</th>\n",
       "      <td>6.362620e+06</td>\n",
       "      <td>6362620</td>\n",
       "      <td>6.362620e+06</td>\n",
       "      <td>6362620</td>\n",
       "      <td>6.362620e+06</td>\n",
       "      <td>6.362620e+06</td>\n",
       "      <td>6362620</td>\n",
       "      <td>6.362620e+06</td>\n",
       "      <td>6.362620e+06</td>\n",
       "      <td>6.362620e+06</td>\n",
       "      <td>6.362620e+06</td>\n",
       "    </tr>\n",
       "    <tr>\n",
       "      <th>unique</th>\n",
       "      <td>NaN</td>\n",
       "      <td>5</td>\n",
       "      <td>NaN</td>\n",
       "      <td>6353307</td>\n",
       "      <td>NaN</td>\n",
       "      <td>NaN</td>\n",
       "      <td>2722362</td>\n",
       "      <td>NaN</td>\n",
       "      <td>NaN</td>\n",
       "      <td>NaN</td>\n",
       "      <td>NaN</td>\n",
       "    </tr>\n",
       "    <tr>\n",
       "      <th>top</th>\n",
       "      <td>NaN</td>\n",
       "      <td>CASH_OUT</td>\n",
       "      <td>NaN</td>\n",
       "      <td>C2098525306</td>\n",
       "      <td>NaN</td>\n",
       "      <td>NaN</td>\n",
       "      <td>C1286084959</td>\n",
       "      <td>NaN</td>\n",
       "      <td>NaN</td>\n",
       "      <td>NaN</td>\n",
       "      <td>NaN</td>\n",
       "    </tr>\n",
       "    <tr>\n",
       "      <th>freq</th>\n",
       "      <td>NaN</td>\n",
       "      <td>2237500</td>\n",
       "      <td>NaN</td>\n",
       "      <td>3</td>\n",
       "      <td>NaN</td>\n",
       "      <td>NaN</td>\n",
       "      <td>113</td>\n",
       "      <td>NaN</td>\n",
       "      <td>NaN</td>\n",
       "      <td>NaN</td>\n",
       "      <td>NaN</td>\n",
       "    </tr>\n",
       "    <tr>\n",
       "      <th>mean</th>\n",
       "      <td>2.433972e+02</td>\n",
       "      <td>NaN</td>\n",
       "      <td>1.798619e+05</td>\n",
       "      <td>NaN</td>\n",
       "      <td>8.338831e+05</td>\n",
       "      <td>8.551137e+05</td>\n",
       "      <td>NaN</td>\n",
       "      <td>1.100702e+06</td>\n",
       "      <td>1.224996e+06</td>\n",
       "      <td>1.290820e-03</td>\n",
       "      <td>2.514687e-06</td>\n",
       "    </tr>\n",
       "    <tr>\n",
       "      <th>std</th>\n",
       "      <td>1.423320e+02</td>\n",
       "      <td>NaN</td>\n",
       "      <td>6.038582e+05</td>\n",
       "      <td>NaN</td>\n",
       "      <td>2.888243e+06</td>\n",
       "      <td>2.924049e+06</td>\n",
       "      <td>NaN</td>\n",
       "      <td>3.399180e+06</td>\n",
       "      <td>3.674129e+06</td>\n",
       "      <td>3.590480e-02</td>\n",
       "      <td>1.585775e-03</td>\n",
       "    </tr>\n",
       "    <tr>\n",
       "      <th>min</th>\n",
       "      <td>1.000000e+00</td>\n",
       "      <td>NaN</td>\n",
       "      <td>0.000000e+00</td>\n",
       "      <td>NaN</td>\n",
       "      <td>0.000000e+00</td>\n",
       "      <td>0.000000e+00</td>\n",
       "      <td>NaN</td>\n",
       "      <td>0.000000e+00</td>\n",
       "      <td>0.000000e+00</td>\n",
       "      <td>0.000000e+00</td>\n",
       "      <td>0.000000e+00</td>\n",
       "    </tr>\n",
       "    <tr>\n",
       "      <th>25%</th>\n",
       "      <td>1.560000e+02</td>\n",
       "      <td>NaN</td>\n",
       "      <td>1.338957e+04</td>\n",
       "      <td>NaN</td>\n",
       "      <td>0.000000e+00</td>\n",
       "      <td>0.000000e+00</td>\n",
       "      <td>NaN</td>\n",
       "      <td>0.000000e+00</td>\n",
       "      <td>0.000000e+00</td>\n",
       "      <td>0.000000e+00</td>\n",
       "      <td>0.000000e+00</td>\n",
       "    </tr>\n",
       "    <tr>\n",
       "      <th>50%</th>\n",
       "      <td>2.390000e+02</td>\n",
       "      <td>NaN</td>\n",
       "      <td>7.487194e+04</td>\n",
       "      <td>NaN</td>\n",
       "      <td>1.420800e+04</td>\n",
       "      <td>0.000000e+00</td>\n",
       "      <td>NaN</td>\n",
       "      <td>1.327057e+05</td>\n",
       "      <td>2.146614e+05</td>\n",
       "      <td>0.000000e+00</td>\n",
       "      <td>0.000000e+00</td>\n",
       "    </tr>\n",
       "    <tr>\n",
       "      <th>75%</th>\n",
       "      <td>3.350000e+02</td>\n",
       "      <td>NaN</td>\n",
       "      <td>2.087215e+05</td>\n",
       "      <td>NaN</td>\n",
       "      <td>1.073152e+05</td>\n",
       "      <td>1.442584e+05</td>\n",
       "      <td>NaN</td>\n",
       "      <td>9.430367e+05</td>\n",
       "      <td>1.111909e+06</td>\n",
       "      <td>0.000000e+00</td>\n",
       "      <td>0.000000e+00</td>\n",
       "    </tr>\n",
       "    <tr>\n",
       "      <th>max</th>\n",
       "      <td>7.430000e+02</td>\n",
       "      <td>NaN</td>\n",
       "      <td>9.244552e+07</td>\n",
       "      <td>NaN</td>\n",
       "      <td>5.958504e+07</td>\n",
       "      <td>4.958504e+07</td>\n",
       "      <td>NaN</td>\n",
       "      <td>3.560159e+08</td>\n",
       "      <td>3.561793e+08</td>\n",
       "      <td>1.000000e+00</td>\n",
       "      <td>1.000000e+00</td>\n",
       "    </tr>\n",
       "  </tbody>\n",
       "</table>\n",
       "</div>"
      ],
      "text/plain": [
       "                step      type        amount     nameOrig  oldbalanceOrg  \\\n",
       "count   6.362620e+06   6362620  6.362620e+06      6362620   6.362620e+06   \n",
       "unique           NaN         5           NaN      6353307            NaN   \n",
       "top              NaN  CASH_OUT           NaN  C2098525306            NaN   \n",
       "freq             NaN   2237500           NaN            3            NaN   \n",
       "mean    2.433972e+02       NaN  1.798619e+05          NaN   8.338831e+05   \n",
       "std     1.423320e+02       NaN  6.038582e+05          NaN   2.888243e+06   \n",
       "min     1.000000e+00       NaN  0.000000e+00          NaN   0.000000e+00   \n",
       "25%     1.560000e+02       NaN  1.338957e+04          NaN   0.000000e+00   \n",
       "50%     2.390000e+02       NaN  7.487194e+04          NaN   1.420800e+04   \n",
       "75%     3.350000e+02       NaN  2.087215e+05          NaN   1.073152e+05   \n",
       "max     7.430000e+02       NaN  9.244552e+07          NaN   5.958504e+07   \n",
       "\n",
       "        newbalanceOrig     nameDest  oldbalanceDest  newbalanceDest  \\\n",
       "count     6.362620e+06      6362620    6.362620e+06    6.362620e+06   \n",
       "unique             NaN      2722362             NaN             NaN   \n",
       "top                NaN  C1286084959             NaN             NaN   \n",
       "freq               NaN          113             NaN             NaN   \n",
       "mean      8.551137e+05          NaN    1.100702e+06    1.224996e+06   \n",
       "std       2.924049e+06          NaN    3.399180e+06    3.674129e+06   \n",
       "min       0.000000e+00          NaN    0.000000e+00    0.000000e+00   \n",
       "25%       0.000000e+00          NaN    0.000000e+00    0.000000e+00   \n",
       "50%       0.000000e+00          NaN    1.327057e+05    2.146614e+05   \n",
       "75%       1.442584e+05          NaN    9.430367e+05    1.111909e+06   \n",
       "max       4.958504e+07          NaN    3.560159e+08    3.561793e+08   \n",
       "\n",
       "             isFraud  isFlaggedFraud  \n",
       "count   6.362620e+06    6.362620e+06  \n",
       "unique           NaN             NaN  \n",
       "top              NaN             NaN  \n",
       "freq             NaN             NaN  \n",
       "mean    1.290820e-03    2.514687e-06  \n",
       "std     3.590480e-02    1.585775e-03  \n",
       "min     0.000000e+00    0.000000e+00  \n",
       "25%     0.000000e+00    0.000000e+00  \n",
       "50%     0.000000e+00    0.000000e+00  \n",
       "75%     0.000000e+00    0.000000e+00  \n",
       "max     1.000000e+00    1.000000e+00  "
      ]
     },
     "execution_count": 15,
     "metadata": {},
     "output_type": "execute_result"
    }
   ],
   "source": [
    "df.describe(include='all')"
   ]
  },
  {
   "cell_type": "code",
   "execution_count": 16,
   "metadata": {},
   "outputs": [
    {
     "name": "stdout",
     "output_type": "stream",
     "text": [
      "<class 'pandas.core.frame.DataFrame'>\n",
      "RangeIndex: 6362620 entries, 0 to 6362619\n",
      "Data columns (total 11 columns):\n",
      " #   Column          Dtype  \n",
      "---  ------          -----  \n",
      " 0   step            int64  \n",
      " 1   type            object \n",
      " 2   amount          float64\n",
      " 3   nameOrig        object \n",
      " 4   oldbalanceOrg   float64\n",
      " 5   newbalanceOrig  float64\n",
      " 6   nameDest        object \n",
      " 7   oldbalanceDest  float64\n",
      " 8   newbalanceDest  float64\n",
      " 9   isFraud         int64  \n",
      " 10  isFlaggedFraud  int64  \n",
      "dtypes: float64(5), int64(3), object(3)\n",
      "memory usage: 534.0+ MB\n"
     ]
    }
   ],
   "source": [
    "df.info()"
   ]
  },
  {
   "cell_type": "markdown",
   "metadata": {},
   "source": [
    "## 1.1 Target variable exploration:\n",
    "\n",
    "The dataset is highly imbalanced, where the vast majority (99.87%) of cases are classified as fraud, and 99.99% of the transactions are classified as flagged fraud\n",
    "\\\n",
    "Question: Is a transaction labeled as flagged fraud actually fraudulent? - Yes \\\n",
    "Is a transaction labeled as fraud actually flagged fraudulent?  - No \n"
   ]
  },
  {
   "cell_type": "code",
   "execution_count": 76,
   "metadata": {},
   "outputs": [],
   "source": [
    "def create_pie_chart(dataframe, column_name):\n",
    "    color = sns.color_palette('RdGy_r')\n",
    "    plot_df = dataframe[column_name].value_counts()\n",
    "    plot_df.plot(kind=\"pie\")\n",
    "    plt.show() # a pie chart function \n",
    "\n",
    "    "
   ]
  },
  {
   "cell_type": "code",
   "execution_count": 74,
   "metadata": {},
   "outputs": [],
   "source": [
    "def create_barplot(dataframe, column_name):\n",
    "    color = sns.color_palette('RdGy_r')\n",
    "    int_level = dataframe[column_name].value_counts()\n",
    "    plt.figure(figsize=(8,4))\n",
    "    sns.barplot(int_level.index, int_level.values, alpha=0.8, color=color[1])\n",
    "    plt.ylabel('Number of Occurrences', fontsize=12)\n",
    "    plt.xlabel('column_name', fontsize=12)\n",
    "    plt.show()"
   ]
  },
  {
   "cell_type": "code",
   "execution_count": 36,
   "metadata": {},
   "outputs": [],
   "source": [
    "def create_freq_tables(dataframe, column_name,desc):\n",
    "    # one way frequency table for the species column. \n",
    "    freq_table = pd.crosstab(dataframe[column_name], desc) \n",
    "  \n",
    "    # frequency table in proportion of species \n",
    "    freq_table= freq_table/len(dataframe) \n",
    "    print(freq_table)\n",
    "    "
   ]
  },
  {
   "cell_type": "code",
   "execution_count": 42,
   "metadata": {},
   "outputs": [
    {
     "name": "stdout",
     "output_type": "stream",
     "text": [
      "col_0    no of fraud\n",
      "isFraud             \n",
      "0           0.998709\n",
      "1           0.001291\n",
      "None\n",
      "col_0           flagged fraud\n",
      "isFlaggedFraud               \n",
      "0                    0.999997\n",
      "1                    0.000003\n",
      "None\n"
     ]
    }
   ],
   "source": [
    "print(create_freq_tables(df,'isFraud','no of fraud'))\n",
    "print(create_freq_tables(df,'isFlaggedFraud','flagged fraud'))"
   ]
  },
  {
   "cell_type": "code",
   "execution_count": 77,
   "metadata": {},
   "outputs": [
    {
     "data": {
      "image/png": "[encoded data removed]",
      "text/plain": [
       "<Figure size 432x288 with 1 Axes>"
      ]
     },
     "metadata": {},
     "output_type": "display_data"
    }
   ],
   "source": [
    "create_pie_chart(df, \"isFraud\")"
   ]
  },
  {
   "cell_type": "markdown",
   "metadata": {},
   "source": [
    "## 1.2: important relationship between features and target variable"
   ]
  },
  {
   "cell_type": "code",
   "execution_count": 78,
   "metadata": {},
   "outputs": [
    {
     "name": "stdout",
     "output_type": "stream",
     "text": [
      "AxesSubplot(0.125,0.125;0.775x0.755)\n"
     ]
    },
    {
     "data": {
      "image/png": "[encoded data removed]",
      "text/plain": [
       "<Figure size 432x288 with 1 Axes>"
      ]
     },
     "metadata": {},
     "output_type": "display_data"
    }
   ],
   "source": [
    "print(sns.countplot(x='type',data=df))"
   ]
  },
  {
   "cell_type": "code",
   "execution_count": 53,
   "metadata": {},
   "outputs": [
    {
     "data": {
      "image/png": "[encoded data removed]",
      "text/plain": [
       "<Figure size 432x288 with 1 Axes>"
      ]
     },
     "metadata": {},
     "output_type": "display_data"
    }
   ],
   "source": [
    "create_pie_chart(df, \"type\")"
   ]
  },
  {
   "cell_type": "code",
   "execution_count": 67,
   "metadata": {},
   "outputs": [],
   "source": [
    "def my_catplot(dataframe, column_name,feature=None, ax=None):\n",
    "    sns.countplot(data=dataframe[:100000], x=feature, hue=column_name, palette=(palette[0], palette[-1]), ax=ax)\n",
    "    ax.set_xlabel('Number of Observations')\n",
    "    ax.set_ylabel(f'{feature}')"
   ]
  },
  {
   "cell_type": "code",
   "execution_count": 90,
   "metadata": {},
   "outputs": [],
   "source": [
    "def my_histplot(dataframe, column_name,feature=None, ax=None):\n",
    "    sns.histplot(data=dataframe[:100000], \n",
    "                         x=feature, \n",
    "                         hue=column_name, \n",
    "                         kde=True, \n",
    "                         element='step', \n",
    "                         palette=(palette[0], \n",
    "                                  palette[-1]), \n",
    "                         ax=ax,\n",
    "                         log_scale=True)\n",
    "    ax.set_ylabel('Number of Observations')\n",
    "    ax.set_xlabel(f'{feature}')\n",
    "    mean_value_f = dataframe[dataframe[column_name]==False][feature].mean()\n",
    "    mean_value_t = dataframe[dataframe[column_name]==True][feature].mean()\n",
    "    ax.axvline(x=mean_value_f, \n",
    "               color=palette[0])\n",
    "    ax.axvline(x=mean_value_t, \n",
    "                color=palette[-1])\n",
    "    ax.annotate(f'Mean {feature}\\n for regular transactions: ${mean_value_f:,.2f}', \n",
    "                 xy=(0.1, 0.5),\n",
    "                 xycoords='axes fraction',\n",
    "                 font='roboto',\n",
    "                 fontstyle='italic')\n",
    "    ax.annotate(f'Mean {feature}\\n for fraudulent transactions: ${mean_value_t:,.2f}', \n",
    "                 xy=(0.1, 0.3),\n",
    "                 xycoords='axes fraction',\n",
    "                 font='roboto',\n",
    "                 fontstyle='italic')"
   ]
  },
  {
   "cell_type": "code",
   "execution_count": 91,
   "metadata": {},
   "outputs": [
    {
     "data": {
      "image/png": "[encoded data removed]",
      "text/plain": [
       "<Figure size 864x864 with 2 Axes>"
      ]
     },
     "metadata": {},
     "output_type": "display_data"
    }
   ],
   "source": [
    "#Setting styles for charts\n",
    "sns.set_style('whitegrid')\n",
    "sns.set_context('notebook')\n",
    "sns.set_palette('deep')\n",
    "\n",
    "palette = sns.color_palette('deep')\n",
    "\n",
    "#Creating visualizations\n",
    "fig, (ax1, ax2) = plt.subplots(2, 1, figsize=(12, 12))\n",
    "fig.suptitle('Number of Transactions per Type & Amount Distribution')\n",
    "\n",
    "my_catplot(dataframe=df,column_name='isFraud',feature='type',ax= ax1)\n",
    "ax1.set_yscale('log')\n",
    "ax1.yaxis.set_major_formatter(mticker.ScalarFormatter())\n",
    "\n",
    "my_histplot(dataframe=df,column_name='isFraud',feature='amount', ax= ax2)\n",
    "ax2.xaxis.set_major_formatter(mticker.ScalarFormatter())\n",
    "ax2.ticklabel_format(style='plain', axis='x')\n",
    "\n",
    "\n",
    "plt.show()"
   ]
  },
  {
   "cell_type": "markdown",
   "metadata": {},
   "source": [
    "Based on these visualizations, I can draw the following conclusions:\n",
    "\n",
    "1. The majority of fraudulent transactions are concentrated within the Cash-Out and Transfer categories, which aligns with our expectations given the nature of financial fraud.\n",
    "2. It is evident that the average amount for fraudulent transactions significantly exceeds that of regular transactions, indicating that fraudsters tend to target higher-value transactions.\n",
    "3. The dataset exhibits a substantial class imbalance, a common characteristic in financial fraud detection datasets. While this imbalance presents a challenge for model tuning, it is an important aspect to consider when building effective fraud detection models."
   ]
  },
  {
   "cell_type": "markdown",
   "metadata": {},
   "source": [
    "## 1.3: Missing values \n",
    "There are no missing values. "
   ]
  },
  {
   "cell_type": "code",
   "execution_count": 49,
   "metadata": {},
   "outputs": [
    {
     "data": {
      "text/plain": [
       "step              0\n",
       "type              0\n",
       "amount            0\n",
       "nameOrig          0\n",
       "oldbalanceOrg     0\n",
       "newbalanceOrig    0\n",
       "nameDest          0\n",
       "oldbalanceDest    0\n",
       "newbalanceDest    0\n",
       "isFraud           0\n",
       "isFlaggedFraud    0\n",
       "dtype: int64"
      ]
     },
     "metadata": {},
     "output_type": "display_data"
    }
   ],
   "source": [
    "display(df.isna().sum())"
   ]
  },
  {
   "cell_type": "markdown",
   "metadata": {},
   "source": [
    "We have a clean dataset and there is no missing values"
   ]
  },
  {
   "cell_type": "markdown",
   "metadata": {},
   "source": [
    "# Section 2: Data Preprocessing\n",
    "### Prepare the dataset for training and validation  \n",
    "\n",
    "This section includes several parts: \n",
    "1. One-hot encoding for the categorical variable \"type\"\n",
    "2. Remove Irrelevant Columns \\\n",
    "Columns such as \"nameOrig\" \"nameDest\" \"step\" should be assumed to be trrelevant features. \"isFlaggedFraud\" can lead to data leakage problem, as transactions labeled as \"flagged fraud\" are all fraud. \n",
    "3. Split the dataset into train and test\n",
    "\n",
    "\n",
    "\n",
    "\n",
    "\n"
   ]
  },
  {
   "cell_type": "code",
   "execution_count": 110,
   "metadata": {},
   "outputs": [],
   "source": [
    "# convert the categorical variable to numerical format using one-hot encoding \n",
    "df = pd.get_dummies(df, columns=['type'])\n"
   ]
  },
  {
   "cell_type": "code",
   "execution_count": 111,
   "metadata": {},
   "outputs": [],
   "source": [
    "# Remove Irrelevant Columns \n",
    "X = df.drop([\"isFraud\",\"isFlaggedFraud\",\"step\",\"nameOrig\",\"nameDest\"],axis=\"columns\")\n",
    "Y = df[\"isFraud\"]"
   ]
  },
  {
   "cell_type": "markdown",
   "metadata": {},
   "source": [
    "Since the dataset is too big (6362620 entries), it took me forever to proform the grid search corss-validation to find out the best parameters.Therefore, I subset the dataset to include only 1% of the total entries. "
   ]
  },
  {
   "cell_type": "code",
   "execution_count": 276,
   "metadata": {},
   "outputs": [
    {
     "name": "stdout",
     "output_type": "stream",
     "text": [
      "X_train length 50900\n",
      "X_test length 12726\n"
     ]
    }
   ],
   "source": [
    "X_subset, _, Y_subset, _ = train_test_split(X, Y, test_size= 0.99, random_state=42, stratify=Y)\n",
    "\n",
    "# split the new subset into training and test sets \n",
    "X_train,X_test,Y_train,Y_test=train_test_split(X_subset,Y_subset,train_size = 0.8,stratify=Y_subset,random_state=27)\n",
    "#to see the lenght:\n",
    "print(\"X_train length\",len(X_train))\n",
    "print(\"X_test length\",len(X_test))"
   ]
  },
  {
   "cell_type": "code",
   "execution_count": 277,
   "metadata": {},
   "outputs": [
    {
     "name": "stdout",
     "output_type": "stream",
     "text": [
      "0    50834\n",
      "1       66\n",
      "Name: isFraud, dtype: int64\n",
      "0    12710\n",
      "1       16\n",
      "Name: isFraud, dtype: int64\n"
     ]
    }
   ],
   "source": [
    "# test if the dataset is stratified \n",
    "print(Y_train.value_counts())\n",
    "print(Y_test.value_counts())\n"
   ]
  },
  {
   "cell_type": "markdown",
   "metadata": {},
   "source": [
    "# Section 3: Modeling "
   ]
  },
  {
   "cell_type": "markdown",
   "metadata": {},
   "source": [
    "## 3.1 logistic model"
   ]
  },
  {
   "cell_type": "code",
   "execution_count": 279,
   "metadata": {},
   "outputs": [],
   "source": [
    "from sklearn.linear_model import LogisticRegression\n",
    "# logistic regression \n",
    "model_log = LogisticRegression()"
   ]
  },
  {
   "cell_type": "code",
   "execution_count": 280,
   "metadata": {},
   "outputs": [
    {
     "data": {
      "text/plain": [
       "LogisticRegression()"
      ]
     },
     "execution_count": 280,
     "metadata": {},
     "output_type": "execute_result"
    }
   ],
   "source": [
    "# model fit (train on the training data)\n",
    "model_log.fit(X_train, Y_train)"
   ]
  },
  {
   "cell_type": "code",
   "execution_count": 296,
   "metadata": {},
   "outputs": [],
   "source": [
    "# make a prediction\n",
    "Y_pred_log = model_log.predict(X_test)"
   ]
  },
  {
   "cell_type": "code",
   "execution_count": 285,
   "metadata": {},
   "outputs": [],
   "source": [
    "# Define a function to evaluate a model\n",
    "def evaluate_model(model, X_test, y_test):\n",
    "    y_pred = model.predict(X_test)\n",
    "    report=classification_report(Y_test, y_pred)\n",
    "    return print(report)\n"
   ]
  },
  {
   "cell_type": "code",
   "execution_count": 286,
   "metadata": {},
   "outputs": [
    {
     "name": "stdout",
     "output_type": "stream",
     "text": [
      "              precision    recall  f1-score   support\n",
      "\n",
      "           0       1.00      0.98      0.99     12710\n",
      "           1       0.03      0.56      0.06        16\n",
      "\n",
      "    accuracy                           0.98     12726\n",
      "   macro avg       0.52      0.77      0.53     12726\n",
      "weighted avg       1.00      0.98      0.99     12726\n",
      "\n"
     ]
    }
   ],
   "source": [
    "evaluate_model(model_log, X_test, Y_test)"
   ]
  },
  {
   "cell_type": "code",
   "execution_count": 292,
   "metadata": {},
   "outputs": [],
   "source": [
    "def evaluate_model_roc_pr(model,X_test,y_test):\n",
    "    y_pred = model.predict(X_test)\n",
    "    \n",
    "    # AUC-ROC: The AUC-ROC measures the model's ability to distinguish between positive and negative instances. \n",
    "    roc_auc = metrics.roc_auc_score(Y_test, y_pred)\n",
    "\n",
    "    # AUC-PR: The AUC-PR measures the precision-recall trade-off. It is a useful metric when the positive class is rare and you want to evaluate the model's ability to rank positive instances.\n",
    "    precision, recall, _ = precision_recall_curve(Y_test, y_pred)\n",
    "    pr_auc = auc(recall, precision)\n",
    "\n",
    "    # Print the metrics\n",
    "    return print(\"AUC-ROC is: \",roc_auc),print(\"AUC-PR is: \",pr_auc)"
   ]
  },
  {
   "cell_type": "code",
   "execution_count": 293,
   "metadata": {},
   "outputs": [
    {
     "name": "stdout",
     "output_type": "stream",
     "text": [
      "AUC-ROC is:  0.7706284421715185\n",
      "AUC-PR is:  0.29765405976081477\n"
     ]
    },
    {
     "data": {
      "text/plain": [
       "(None, None)"
      ]
     },
     "execution_count": 293,
     "metadata": {},
     "output_type": "execute_result"
    }
   ],
   "source": [
    "evaluate_model_roc_pr(model_log, X_test, Y_test)"
   ]
  },
  {
   "cell_type": "code",
   "execution_count": 182,
   "metadata": {},
   "outputs": [],
   "source": [
    "# Plot ROC curve\n",
    "def plot_roc(Y_test, Y_pred):\n",
    "    fpr, tpr, _ = roc_curve(Y_test, Y_pred)\n",
    "    plt.figure()\n",
    "    plt.plot(fpr, tpr, color='darkorange', lw=2, label='ROC curve (area = %0.2f)' % roc_auc)\n",
    "    plt.plot([0, 1], [0, 1], color='navy', lw=2, linestyle='--')\n",
    "    plt.xlim([0.0, 1.0])\n",
    "    plt.ylim([0.0, 1.05])\n",
    "    plt.xlabel('False Positive Rate')\n",
    "    plt.ylabel('True Positive Rate')\n",
    "    plt.title('Receiver Operating Characteristic')\n",
    "    plt.legend(loc='lower right')\n",
    "    plt.show()\n",
    "\n",
    "# Plot Precision-Recall curve\n",
    "def plot_pr(Y_test, Y_pred):\n",
    "    plt.figure()\n",
    "    plt.step(recall, precision, color='b', where='post')\n",
    "    plt.fill_between(recall, precision, alpha=0.2, color='b')\n",
    "    plt.xlabel('Recall')\n",
    "    plt.ylabel('Precision')\n",
    "    plt.ylim([0.0, 1.05])\n",
    "    plt.xlim([0.0, 1.0])\n",
    "    plt.title('Precision-Recall curve')\n",
    "    plt.show()\n",
    "\n",
    "\n",
    "\n",
    "\n"
   ]
  },
  {
   "cell_type": "code",
   "execution_count": 297,
   "metadata": {},
   "outputs": [
    {
     "data": {
      "image/png": "[encoded data removed]",
      "text/plain": [
       "<Figure size 432x288 with 1 Axes>"
      ]
     },
     "metadata": {},
     "output_type": "display_data"
    }
   ],
   "source": [
    "plot_roc(Y_test, Y_pred_log)"
   ]
  },
  {
   "cell_type": "code",
   "execution_count": 298,
   "metadata": {},
   "outputs": [
    {
     "data": {
      "image/png": "[encoded data removed]",
      "text/plain": [
       "<Figure size 432x288 with 1 Axes>"
      ]
     },
     "metadata": {},
     "output_type": "display_data"
    }
   ],
   "source": [
    "plot_pr(Y_test, Y_pred_log)"
   ]
  },
  {
   "cell_type": "markdown",
   "metadata": {},
   "source": [
    "Conclusion: \\\n",
    "An AUC-ROC score of 0.77 is very high and indicates that the first model is highly effective at distinguishing between the two classes. It's a strong performance, suggesting that the model has a high true positive rate while keeping the false positive rate low.However, since this dataset is highly imbalanced, I also use AUC-PR score, which is a more imformatice metric. \n",
    "\n",
    "In this case, the AUC-PR score of 0.30. It means that the fist model is worse than random chance. "
   ]
  },
  {
   "cell_type": "markdown",
   "metadata": {},
   "source": [
    "## Section 3.2: Classification tree "
   ]
  },
  {
   "cell_type": "code",
   "execution_count": 299,
   "metadata": {},
   "outputs": [],
   "source": [
    "# create a decision tree classifier \n",
    "dt = DecisionTreeClassifier(random_state=27)"
   ]
  },
  {
   "cell_type": "code",
   "execution_count": 300,
   "metadata": {},
   "outputs": [],
   "source": [
    "# Specify Hyperparameters for Tuning:\n",
    "param_grid = {\n",
    "    'max_depth': [None, 10, 20, 30],\n",
    "    'min_samples_split': [2, 5, 10],\n",
    "    'min_samples_leaf': [1, 2, 4],\n",
    "    'max_features': ['auto', 'sqrt', 'log2']\n",
    "}"
   ]
  },
  {
   "cell_type": "code",
   "execution_count": 221,
   "metadata": {},
   "outputs": [
    {
     "name": "stdout",
     "output_type": "stream",
     "text": [
      "Scoring Metric: accuracy\n",
      "Best Parameters: {'max_depth': 30, 'max_features': 'auto', 'min_samples_leaf': 2, 'min_samples_split': 5}\n",
      "Best accuracy Score: 0.9995\n",
      "Scoring Metric: precision\n",
      "Best Parameters: {'max_depth': 20, 'max_features': 'sqrt', 'min_samples_leaf': 2, 'min_samples_split': 5}\n",
      "Best precision Score: 0.9425\n",
      "Scoring Metric: recall\n",
      "Best Parameters: {'max_depth': 30, 'max_features': 'sqrt', 'min_samples_leaf': 2, 'min_samples_split': 10}\n",
      "Best recall Score: 0.7231\n",
      "Scoring Metric: f1\n",
      "Best Parameters: {'max_depth': 20, 'max_features': 'sqrt', 'min_samples_leaf': 2, 'min_samples_split': 2}\n",
      "Best f1 Score: 0.7804\n",
      "Scoring Metric: roc_auc\n",
      "Best Parameters: {'max_depth': 10, 'max_features': 'sqrt', 'min_samples_leaf': 2, 'min_samples_split': 10}\n",
      "Best roc_auc Score: 0.9437\n"
     ]
    }
   ],
   "source": [
    "# Define the scoring metrics \n",
    "scoring_metrics = ['precision', 'recall', 'f1', 'roc_auc']\n",
    "\n",
    "# Perform GridSearchCV with different scoring metrics\n",
    "for scoring_metric in scoring_metrics:\n",
    "    grid_search = GridSearchCV(estimator=dt, param_grid=param_grid, cv=5, scoring=scoring_metric)\n",
    "    grid_search.fit(X_train, Y_train)\n",
    "\n",
    "    # Identify the best parameters and evaluate the model\n",
    "    best_params = grid_search.best_params_\n",
    "    best_model = grid_search.best_estimator_\n",
    "    score = grid_search.best_score_\n",
    "\n",
    "    print(f\"Scoring Metric: {scoring_metric}\")\n",
    "    print(f\"Best Parameters: {best_params}\")\n",
    "    print(f\"Best {scoring_metric} Score: {score:.4f}\")"
   ]
  },
  {
   "cell_type": "markdown",
   "metadata": {},
   "source": [
    "According to the GridSearchCV results, I set the optimal max_depth to be 20, max_feature to be 'sqrt', min_sample_leaf to be 2, min_sample_split to be 5"
   ]
  },
  {
   "cell_type": "code",
   "execution_count": 301,
   "metadata": {},
   "outputs": [],
   "source": [
    "# Perform GridSearchCV with different scoring metrics\n",
    "grid_search = GridSearchCV(estimator=dt, param_grid=param_grid, cv=5, scoring='precision')\n",
    "   "
   ]
  },
  {
   "cell_type": "code",
   "execution_count": 302,
   "metadata": {},
   "outputs": [
    {
     "data": {
      "text/plain": [
       "GridSearchCV(cv=5, estimator=DecisionTreeClassifier(random_state=27),\n",
       "             param_grid={'max_depth': [None, 10, 20, 30],\n",
       "                         'max_features': ['auto', 'sqrt', 'log2'],\n",
       "                         'min_samples_leaf': [1, 2, 4],\n",
       "                         'min_samples_split': [2, 5, 10]},\n",
       "             scoring='precision')"
      ]
     },
     "execution_count": 302,
     "metadata": {},
     "output_type": "execute_result"
    }
   ],
   "source": [
    "grid_search.fit(X_train, Y_train)"
   ]
  },
  {
   "cell_type": "code",
   "execution_count": 303,
   "metadata": {},
   "outputs": [],
   "source": [
    "# Identify the best parameters and evaluate the model\n",
    "best_params = grid_search.best_params_\n",
    "best_model = grid_search.best_estimator_\n",
    "score = grid_search.best_score_"
   ]
  },
  {
   "cell_type": "code",
   "execution_count": 304,
   "metadata": {},
   "outputs": [],
   "source": [
    "best_model_fit_dt = best_model.fit(X_train, Y_train)"
   ]
  },
  {
   "cell_type": "code",
   "execution_count": 309,
   "metadata": {},
   "outputs": [],
   "source": [
    "y_pred_dt = best_model_fit_dt.predict(X_test)"
   ]
  },
  {
   "cell_type": "code",
   "execution_count": 306,
   "metadata": {},
   "outputs": [
    {
     "data": {
      "image/png": "[encoded data removed]",
      "text/plain": [
       "<Figure size 432x288 with 1 Axes>"
      ]
     },
     "metadata": {},
     "output_type": "display_data"
    }
   ],
   "source": [
    "plot_roc(Y_test, y_pred_dt)"
   ]
  },
  {
   "cell_type": "code",
   "execution_count": 311,
   "metadata": {},
   "outputs": [
    {
     "data": {
      "image/png": "[encoded data removed]",
      "text/plain": [
       "<Figure size 432x288 with 1 Axes>"
      ]
     },
     "metadata": {},
     "output_type": "display_data"
    }
   ],
   "source": [
    "plot_pr(Y_test, y_pred_dt)"
   ]
  },
  {
   "cell_type": "code",
   "execution_count": 312,
   "metadata": {},
   "outputs": [
    {
     "name": "stdout",
     "output_type": "stream",
     "text": [
      "AUC-ROC is:  0.8435139653815893\n",
      "AUC-PR is:  0.667475859980956\n"
     ]
    },
    {
     "data": {
      "text/plain": [
       "(None, None)"
      ]
     },
     "execution_count": 312,
     "metadata": {},
     "output_type": "execute_result"
    }
   ],
   "source": [
    "evaluate_model_roc_pr(best_model_fit_dt, X_test, Y_test)"
   ]
  },
  {
   "cell_type": "code",
   "execution_count": 308,
   "metadata": {},
   "outputs": [
    {
     "name": "stdout",
     "output_type": "stream",
     "text": [
      "              precision    recall  f1-score   support\n",
      "\n",
      "           0       1.00      1.00      1.00     12710\n",
      "           1       0.65      0.69      0.67        16\n",
      "\n",
      "    accuracy                           1.00     12726\n",
      "   macro avg       0.82      0.84      0.83     12726\n",
      "weighted avg       1.00      1.00      1.00     12726\n",
      "\n"
     ]
    }
   ],
   "source": [
    "dt_metrics = evaluate_model(best_model_fit_dt, X_test, Y_test)"
   ]
  },
  {
   "cell_type": "markdown",
   "metadata": {},
   "source": [
    "Compared to basic logistic regression, the AUC-ROC score is increased from 0.77 to 0.84, the AUC-PR is increased from 0.3 to 0.67. Both the precision and recall scores are close to 0.70. "
   ]
  },
  {
   "cell_type": "markdown",
   "metadata": {},
   "source": [
    "## Section 3.3: XGBoost"
   ]
  },
  {
   "cell_type": "code",
   "execution_count": 313,
   "metadata": {},
   "outputs": [],
   "source": [
    "import xgboost as xgb"
   ]
  },
  {
   "cell_type": "code",
   "execution_count": 330,
   "metadata": {},
   "outputs": [],
   "source": [
    "param_grid = {\n",
    "    'learning_rate': [0.01,0.015,0.02],\n",
    "    'n_estimators': [5,10,20],\n",
    "    'max_depth': [3, 4,5],\n",
    "}"
   ]
  },
  {
   "cell_type": "code",
   "execution_count": 315,
   "metadata": {},
   "outputs": [],
   "source": [
    "xgb_classifier = xgb.XGBClassifier()"
   ]
  },
  {
   "cell_type": "code",
   "execution_count": 331,
   "metadata": {},
   "outputs": [],
   "source": [
    "grid_search = GridSearchCV(estimator=xgb_classifier, param_grid=param_grid, cv=5, scoring='precision')"
   ]
  },
  {
   "cell_type": "code",
   "execution_count": 332,
   "metadata": {},
   "outputs": [
    {
     "data": {
      "text/plain": [
       "GridSearchCV(cv=5,\n",
       "             estimator=XGBClassifier(base_score=None, booster=None,\n",
       "                                     callbacks=None, colsample_bylevel=None,\n",
       "                                     colsample_bynode=None,\n",
       "                                     colsample_bytree=None,\n",
       "                                     early_stopping_rounds=None,\n",
       "                                     enable_categorical=False, eval_metric=None,\n",
       "                                     feature_types=None, gamma=None,\n",
       "                                     gpu_id=None, grow_policy=None,\n",
       "                                     importance_type=None,\n",
       "                                     interaction_constraints=None,\n",
       "                                     learning_rate=None,...\n",
       "                                     max_cat_threshold=None,\n",
       "                                     max_cat_to_onehot=None,\n",
       "                                     max_delta_step=None, max_depth=None,\n",
       "                                     max_leaves=None, min_child_weight=None,\n",
       "                                     missing=nan, monotone_constraints=None,\n",
       "                                     n_estimators=100, n_jobs=None,\n",
       "                                     num_parallel_tree=None, predictor=None,\n",
       "                                     random_state=None, ...),\n",
       "             param_grid={'learning_rate': [0.01, 0.015, 0.02],\n",
       "                         'max_depth': [3, 4, 5], 'n_estimators': [5, 10, 20]},\n",
       "             scoring='precision')"
      ]
     },
     "execution_count": 332,
     "metadata": {},
     "output_type": "execute_result"
    }
   ],
   "source": [
    "grid_search.fit(X_train, Y_train)"
   ]
  },
  {
   "cell_type": "code",
   "execution_count": 333,
   "metadata": {},
   "outputs": [],
   "source": [
    "best_params = grid_search.best_params_\n",
    "best_xgb_model = grid_search.best_estimator_"
   ]
  },
  {
   "cell_type": "code",
   "execution_count": 334,
   "metadata": {},
   "outputs": [],
   "source": [
    "best_model_fit_xgb = best_xgb_model.fit(X_train, Y_train)"
   ]
  },
  {
   "cell_type": "code",
   "execution_count": 335,
   "metadata": {},
   "outputs": [],
   "source": [
    "y_pred_xgb = best_model_fit_xgb.predict(X_test)"
   ]
  },
  {
   "cell_type": "code",
   "execution_count": 336,
   "metadata": {},
   "outputs": [
    {
     "name": "stdout",
     "output_type": "stream",
     "text": [
      "AUC-ROC is:  0.59375\n",
      "AUC-PR is:  0.5942607653622505\n"
     ]
    },
    {
     "data": {
      "text/plain": [
       "(None, None)"
      ]
     },
     "execution_count": 336,
     "metadata": {},
     "output_type": "execute_result"
    }
   ],
   "source": [
    "evaluate_model_roc_pr(best_model_fit_xgb, X_test, Y_test)"
   ]
  },
  {
   "cell_type": "code",
   "execution_count": 337,
   "metadata": {},
   "outputs": [
    {
     "name": "stdout",
     "output_type": "stream",
     "text": [
      "              precision    recall  f1-score   support\n",
      "\n",
      "           0       1.00      1.00      1.00     12710\n",
      "           1       1.00      0.19      0.32        16\n",
      "\n",
      "    accuracy                           1.00     12726\n",
      "   macro avg       1.00      0.59      0.66     12726\n",
      "weighted avg       1.00      1.00      1.00     12726\n",
      "\n"
     ]
    }
   ],
   "source": [
    "xgb_metrics = evaluate_model(best_model_fit_xgb, X_test, Y_test)"
   ]
  },
  {
   "cell_type": "markdown",
   "metadata": {},
   "source": [
    "Compared to Decision Tree, the AUC for both ROC and PR decreased. The XGBoost optimizes the precision score to 1, but the recall score is decreased to 0.19.Therefore, decision tree is a better choice. "
   ]
  }
 ],
 "metadata": {
  "kernelspec": {
   "display_name": "Python 3",
   "language": "python",
   "name": "python3"
  },
  "language_info": {
   "codemirror_mode": {
    "name": "ipython",
    "version": 3
   },
   "file_extension": ".py",
   "mimetype": "text/x-python",
   "name": "python",
   "nbconvert_exporter": "python",
   "pygments_lexer": "ipython3",
   "version": "3.8.5"
  }
 },
 "nbformat": 4,
 "nbformat_minor": 4
}
